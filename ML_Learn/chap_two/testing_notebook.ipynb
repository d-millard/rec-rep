{
 "cells": [
  {
   "cell_type": "code",
   "execution_count": 1,
   "metadata": {},
   "outputs": [
    {
     "name": "stdout",
     "output_type": "stream",
     "text": [
      "hey\n"
     ]
    }
   ],
   "source": [
    "print(\"hey anaconda\")"
   ]
  },
  {
   "cell_type": "code",
   "execution_count": 2,
   "metadata": {},
   "outputs": [
    {
     "name": "stdout",
     "output_type": "stream",
     "text": [
      "he\n",
      "what\n",
      "u\n"
     ]
    }
   ],
   "source": [
    "for i in [\"hey\", \"whats\", \"up\"]:\n",
    "    i = i[0:-1]\n",
    "    print(i)\n"
   ]
  },
  {
   "cell_type": "code",
   "execution_count": 1,
   "metadata": {},
   "outputs": [
    {
     "data": {
      "text/plain": [
       "'\\nisdir checks if in the current directory\\nmakedirs makes the directory if needed\\n\\ndirectories work by not needing the full path just the one relative to current loction\\nso you can check if you are in one, or even a few back \\nif not, make it\\n\\nimport os\\n\\npath = os.path.join(\"here\", \"here2\")\\n\\nif not os.path.isdir(path):\\n    os.makedirs(path)\\n'"
      ]
     },
     "execution_count": 1,
     "metadata": {},
     "output_type": "execute_result"
    }
   ],
   "source": [
    "\"\"\"\n",
    "isdir checks if in the current directory\n",
    "makedirs makes the directory if needed\n",
    "\n",
    "directories work by not needing the full path just the one relative to current loction\n",
    "so you can check if you are in one, or even a few back \n",
    "if not, make it\n",
    "\n",
    "import os\n",
    "\n",
    "path = os.path.join(\"here\", \"here2\")\n",
    "\n",
    "if not os.path.isdir(path):\n",
    "    os.makedirs(path)\n",
    "\"\"\""
   ]
  },
  {
   "cell_type": "code",
   "execution_count": 5,
   "metadata": {},
   "outputs": [],
   "source": [
    "import matplotlib\n",
    "import matplotlib.pyplot as plt\n",
    "import numpy as np\n",
    "import pandas as pd\n",
    "import sklearn.linear_model  # download with \"pip install -U scikit-learn\""
   ]
  },
  {
   "cell_type": "code",
   "execution_count": null,
   "metadata": {},
   "outputs": [],
   "source": []
  },
  {
   "cell_type": "code",
   "execution_count": null,
   "metadata": {},
   "outputs": [],
   "source": []
  }
 ],
 "metadata": {
  "kernelspec": {
   "display_name": "Python 3",
   "language": "python",
   "name": "python3"
  },
  "language_info": {
   "codemirror_mode": {
    "name": "ipython",
    "version": 3
   },
   "file_extension": ".py",
   "mimetype": "text/x-python",
   "name": "python",
   "nbconvert_exporter": "python",
   "pygments_lexer": "ipython3",
   "version": "3.7.4"
  }
 },
 "nbformat": 4,
 "nbformat_minor": 4
}
